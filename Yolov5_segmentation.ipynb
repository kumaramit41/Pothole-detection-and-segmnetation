{
  "nbformat": 4,
  "nbformat_minor": 0,
  "metadata": {
    "colab": {
      "provenance": []
    },
    "kernelspec": {
      "name": "python3",
      "display_name": "Python 3"
    },
    "language_info": {
      "name": "python"
    },
    "accelerator": "GPU",
    "gpuClass": "standard"
  },
  "cells": [
    {
      "cell_type": "code",
      "execution_count": null,
      "metadata": {
        "colab": {
          "base_uri": "https://localhost:8080/"
        },
        "id": "pQfpcfAYuf0L",
        "outputId": "cb8353a6-9b34-4521-c126-9ac5c08cdfcc"
      },
      "outputs": [
        {
          "output_type": "stream",
          "name": "stdout",
          "text": [
            "/content/drive/MyDrive\n"
          ]
        }
      ],
      "source": [
        "%cd /content/drive/MyDrive"
      ]
    },
    {
      "cell_type": "code",
      "source": [
        "%mkdir YOLOv5"
      ],
      "metadata": {
        "colab": {
          "base_uri": "https://localhost:8080/"
        },
        "id": "BHZAI0VUuqtI",
        "outputId": "eedc2943-2784-45d8-9aa3-505c7a3eac93"
      },
      "execution_count": null,
      "outputs": [
        {
          "output_type": "stream",
          "name": "stdout",
          "text": [
            "mkdir: cannot create directory ‘YOLOv5’: File exists\n"
          ]
        }
      ]
    },
    {
      "cell_type": "code",
      "source": [
        "%cd YOLOv5"
      ],
      "metadata": {
        "colab": {
          "base_uri": "https://localhost:8080/"
        },
        "id": "Pct2HxC5uqv1",
        "outputId": "43bd7108-ea72-498b-e26a-035f270254ff"
      },
      "execution_count": null,
      "outputs": [
        {
          "output_type": "stream",
          "name": "stdout",
          "text": [
            "/content/drive/MyDrive/YOLOv5\n"
          ]
        }
      ]
    },
    {
      "cell_type": "code",
      "source": [
        "!git clone https://github.com/ultralytics/yolov5.git\n",
        "%cd yolov5 \n",
        "%pip install -r requirements.txt\n",
        "\n",
        "import torch\n",
        "import utils\n",
        "display =utils.notebook_init()\n"
      ],
      "metadata": {
        "colab": {
          "base_uri": "https://localhost:8080/"
        },
        "id": "QdXiNon2uqyb",
        "outputId": "2f99e6c3-ff75-4cfa-95bf-edb7dc7dd1ca"
      },
      "execution_count": null,
      "outputs": [
        {
          "output_type": "stream",
          "name": "stderr",
          "text": [
            "YOLOv5 🚀 v7.0-12-g7f5724b Python-3.7.15 torch-1.12.1+cu113 CUDA:0 (Tesla T4, 15110MiB)\n"
          ]
        },
        {
          "output_type": "stream",
          "name": "stdout",
          "text": [
            "Setup complete ✅ (2 CPUs, 12.7 GB RAM, 22.6/78.2 GB disk)\n"
          ]
        }
      ]
    },
    {
      "cell_type": "code",
      "source": [
        "!pip install roboflow\n",
        "\n",
        "\"\"\"from roboflow import Roboflow\n",
        "rf = Roboflow(api_key=\"\") # You will get your own key for download link from roboflow\n",
        "project = rf.workspace(\"myworkspace-l4whl\").project(\"yolov7_inst_seg\")\n",
        "dataset = project.version(1).download(\"yolov5\")\"\"\""
      ],
      "metadata": {
        "colab": {
          "base_uri": "https://localhost:8080/",
          "height": 1000
        },
        "id": "-rPyQLuVuq0a",
        "outputId": "3c3f55d3-ac17-4e92-b68c-ac194b268bfd"
      },
      "execution_count": null,
      "outputs": [
        {
          "output_type": "stream",
          "name": "stdout",
          "text": [
            "Looking in indexes: https://pypi.org/simple, https://us-python.pkg.dev/colab-wheels/public/simple/\n",
            "Collecting roboflow\n",
            "  Downloading roboflow-0.2.20-py3-none-any.whl (41 kB)\n",
            "\u001b[K     |████████████████████████████████| 41 kB 744 kB/s \n",
            "\u001b[?25hCollecting cycler==0.10.0\n",
            "  Downloading cycler-0.10.0-py2.py3-none-any.whl (6.5 kB)\n",
            "Requirement already satisfied: tqdm>=4.41.0 in /usr/local/lib/python3.7/dist-packages (from roboflow) (4.64.1)\n",
            "Requirement already satisfied: python-dateutil in /usr/local/lib/python3.7/dist-packages (from roboflow) (2.8.2)\n",
            "Collecting urllib3==1.26.6\n",
            "  Downloading urllib3-1.26.6-py2.py3-none-any.whl (138 kB)\n",
            "\u001b[K     |████████████████████████████████| 138 kB 48.7 MB/s \n",
            "\u001b[?25hRequirement already satisfied: requests in /usr/local/lib/python3.7/dist-packages (from roboflow) (2.23.0)\n",
            "Requirement already satisfied: six in /usr/local/lib/python3.7/dist-packages (from roboflow) (1.15.0)\n",
            "Collecting python-dotenv\n",
            "  Downloading python_dotenv-0.21.0-py3-none-any.whl (18 kB)\n",
            "Collecting requests-toolbelt\n",
            "  Downloading requests_toolbelt-0.10.1-py2.py3-none-any.whl (54 kB)\n",
            "\u001b[K     |████████████████████████████████| 54 kB 3.8 MB/s \n",
            "\u001b[?25hCollecting pyparsing==2.4.7\n",
            "  Downloading pyparsing-2.4.7-py2.py3-none-any.whl (67 kB)\n",
            "\u001b[K     |████████████████████████████████| 67 kB 7.8 MB/s \n",
            "\u001b[?25hRequirement already satisfied: PyYAML>=5.3.1 in /usr/local/lib/python3.7/dist-packages (from roboflow) (6.0)\n",
            "Requirement already satisfied: idna==2.10 in /usr/local/lib/python3.7/dist-packages (from roboflow) (2.10)\n",
            "Requirement already satisfied: Pillow>=7.1.2 in /usr/local/lib/python3.7/dist-packages (from roboflow) (7.1.2)\n",
            "Collecting certifi==2021.5.30\n",
            "  Downloading certifi-2021.5.30-py2.py3-none-any.whl (145 kB)\n",
            "\u001b[K     |████████████████████████████████| 145 kB 73.1 MB/s \n",
            "\u001b[?25hRequirement already satisfied: kiwisolver>=1.3.1 in /usr/local/lib/python3.7/dist-packages (from roboflow) (1.4.4)\n",
            "Requirement already satisfied: glob2 in /usr/local/lib/python3.7/dist-packages (from roboflow) (0.7)\n",
            "Collecting wget\n",
            "  Downloading wget-3.2.zip (10 kB)\n",
            "Requirement already satisfied: matplotlib in /usr/local/lib/python3.7/dist-packages (from roboflow) (3.2.2)\n",
            "Collecting chardet==4.0.0\n",
            "  Downloading chardet-4.0.0-py2.py3-none-any.whl (178 kB)\n",
            "\u001b[K     |████████████████████████████████| 178 kB 67.1 MB/s \n",
            "\u001b[?25hRequirement already satisfied: numpy>=1.18.5 in /usr/local/lib/python3.7/dist-packages (from roboflow) (1.21.6)\n",
            "Requirement already satisfied: opencv-python-headless>=4.5.1.48 in /usr/local/lib/python3.7/dist-packages (from roboflow) (4.6.0.66)\n",
            "Requirement already satisfied: typing-extensions in /usr/local/lib/python3.7/dist-packages (from kiwisolver>=1.3.1->roboflow) (4.1.1)\n",
            "Collecting requests\n",
            "  Downloading requests-2.28.1-py3-none-any.whl (62 kB)\n",
            "\u001b[K     |████████████████████████████████| 62 kB 1.8 MB/s \n",
            "\u001b[?25hRequirement already satisfied: charset-normalizer<3,>=2 in /usr/local/lib/python3.7/dist-packages (from requests->roboflow) (2.1.1)\n",
            "Building wheels for collected packages: wget\n",
            "  Building wheel for wget (setup.py) ... \u001b[?25l\u001b[?25hdone\n",
            "  Created wheel for wget: filename=wget-3.2-py3-none-any.whl size=9674 sha256=87417fd3ba505547c80c0e1c15c95299d5a5d743ee62f3132eb264d69ee41e01\n",
            "  Stored in directory: /root/.cache/pip/wheels/a1/b6/7c/0e63e34eb06634181c63adacca38b79ff8f35c37e3c13e3c02\n",
            "Successfully built wget\n",
            "Installing collected packages: urllib3, certifi, requests, pyparsing, cycler, wget, requests-toolbelt, python-dotenv, chardet, roboflow\n",
            "  Attempting uninstall: urllib3\n",
            "    Found existing installation: urllib3 1.24.3\n",
            "    Uninstalling urllib3-1.24.3:\n",
            "      Successfully uninstalled urllib3-1.24.3\n",
            "  Attempting uninstall: certifi\n",
            "    Found existing installation: certifi 2022.9.24\n",
            "    Uninstalling certifi-2022.9.24:\n",
            "      Successfully uninstalled certifi-2022.9.24\n",
            "  Attempting uninstall: requests\n",
            "    Found existing installation: requests 2.23.0\n",
            "    Uninstalling requests-2.23.0:\n",
            "      Successfully uninstalled requests-2.23.0\n",
            "  Attempting uninstall: pyparsing\n",
            "    Found existing installation: pyparsing 3.0.9\n",
            "    Uninstalling pyparsing-3.0.9:\n",
            "      Successfully uninstalled pyparsing-3.0.9\n",
            "  Attempting uninstall: cycler\n",
            "    Found existing installation: cycler 0.11.0\n",
            "    Uninstalling cycler-0.11.0:\n",
            "      Successfully uninstalled cycler-0.11.0\n",
            "  Attempting uninstall: chardet\n",
            "    Found existing installation: chardet 3.0.4\n",
            "    Uninstalling chardet-3.0.4:\n",
            "      Successfully uninstalled chardet-3.0.4\n",
            "Successfully installed certifi-2021.5.30 chardet-4.0.0 cycler-0.10.0 pyparsing-2.4.7 python-dotenv-0.21.0 requests-2.28.1 requests-toolbelt-0.10.1 roboflow-0.2.20 urllib3-1.26.6 wget-3.2\n"
          ]
        },
        {
          "output_type": "display_data",
          "data": {
            "application/vnd.colab-display-data+json": {
              "pip_warning": {
                "packages": [
                  "certifi",
                  "chardet",
                  "cycler",
                  "pyparsing",
                  "requests",
                  "urllib3"
                ]
              }
            }
          },
          "metadata": {}
        },
        {
          "output_type": "stream",
          "name": "stdout",
          "text": [
            "loading Roboflow workspace...\n",
            "loading Roboflow project...\n",
            "Downloading Dataset Version Zip in Yolov7_inst_seg-1 to yolov5pytorch: 100% [246264376 / 246264376] bytes\n"
          ]
        },
        {
          "output_type": "stream",
          "name": "stderr",
          "text": [
            "Extracting Dataset Version Zip to Yolov7_inst_seg-1 in yolov5pytorch:: 100%|██████████| 4576/4576 [00:30<00:00, 150.45it/s]\n"
          ]
        }
      ]
    },
    {
      "cell_type": "code",
      "source": [
        "dataset.location"
      ],
      "metadata": {
        "colab": {
          "base_uri": "https://localhost:8080/",
          "height": 35
        },
        "id": "IiIu22u7yCqB",
        "outputId": "98d4b00a-89ce-4f1f-c899-52856b698b81"
      },
      "execution_count": null,
      "outputs": [
        {
          "output_type": "execute_result",
          "data": {
            "text/plain": [
              "'/content/drive/MyDrive/YOLOv5/yolov5/Yolov7_inst_seg-1'"
            ],
            "application/vnd.google.colaboratory.intrinsic+json": {
              "type": "string"
            }
          },
          "metadata": {},
          "execution_count": 6
        }
      ]
    },
    {
      "cell_type": "code",
      "source": [
        "!python /content/drive/MyDrive/YOLOv5/yolov5/segment/train.py --img 320 --batch 120 --epochs 50 --data /content/drive/MyDrive/YOLOv5/yolov5/Yolov7_inst_seg-1/data.yaml --weights yolov5s-seg.pt\n"
      ],
      "metadata": {
        "colab": {
          "base_uri": "https://localhost:8080/",
          "height": 1000
        },
        "id": "Oo8nJTRauq4l",
        "outputId": "b745d1ab-3f19-4aed-a7d1-2c1dd62cab90"
      },
      "execution_count": null,
      "outputs": [
        {
          "output_type": "stream",
          "name": "stdout",
          "text": [
            "\u001b[31m\u001b[1mrequirements:\u001b[0m YOLOv5 requirement \"gitpython\" not found, attempting AutoUpdate...\n",
            "Looking in indexes: https://pypi.org/simple, https://us-python.pkg.dev/colab-wheels/public/simple/\n",
            "Collecting gitpython\n",
            "  Downloading GitPython-3.1.29-py3-none-any.whl (182 kB)\n",
            "Requirement already satisfied: typing-extensions>=3.7.4.3 in /usr/local/lib/python3.7/dist-packages (from gitpython) (4.1.1)\n",
            "Collecting gitdb<5,>=4.0.1\n",
            "  Downloading gitdb-4.0.10-py3-none-any.whl (62 kB)\n",
            "Collecting smmap<6,>=3.0.1\n",
            "  Downloading smmap-5.0.0-py3-none-any.whl (24 kB)\n",
            "Installing collected packages: smmap, gitdb, gitpython\n",
            "Successfully installed gitdb-4.0.10 gitpython-3.1.29 smmap-5.0.0\n",
            "\n",
            "\u001b[31m\u001b[1mrequirements:\u001b[0m 1 package updated per ['gitpython']\n",
            "\u001b[31m\u001b[1mrequirements:\u001b[0m ⚠️ \u001b[1mRestart runtime or rerun command for updates to take effect\u001b[0m\n",
            "\n",
            "\u001b[34m\u001b[1msegment/train: \u001b[0mweights=yolov5s-seg.pt, cfg=, data=/content/drive/MyDrive/YOLOv5/yolov5/Yolov7_inst_seg-1/data.yaml, hyp=drive/MyDrive/YOLOv5/yolov5/data/hyps/hyp.scratch-low.yaml, epochs=50, batch_size=120, imgsz=320, rect=False, resume=False, nosave=False, noval=False, noautoanchor=False, noplots=False, evolve=None, bucket=, cache=None, image_weights=False, device=, multi_scale=False, single_cls=False, optimizer=SGD, sync_bn=False, workers=8, project=drive/MyDrive/YOLOv5/yolov5/runs/train-seg, name=exp, exist_ok=False, quad=False, cos_lr=False, label_smoothing=0.0, patience=100, freeze=[0], save_period=-1, seed=0, local_rank=-1, mask_ratio=4, no_overlap=False\n",
            "\u001b[34m\u001b[1mgithub: \u001b[0mup to date with https://github.com/ultralytics/yolov5 ✅\n",
            "\u001b[31m\u001b[1mrequirements:\u001b[0m YOLOv5 requirements \"ipython\" \"thop>=0.1.1\" not found, attempting AutoUpdate...\n",
            "Looking in indexes: https://pypi.org/simple, https://us-python.pkg.dev/colab-wheels/public/simple/\n",
            "Requirement already satisfied: ipython in /usr/local/lib/python3.7/dist-packages (7.9.0)\n",
            "Collecting thop>=0.1.1\n",
            "  Downloading thop-0.1.1.post2209072238-py3-none-any.whl (15 kB)\n",
            "Requirement already satisfied: torch in /usr/local/lib/python3.7/dist-packages (from thop>=0.1.1) (1.12.1+cu113)\n",
            "Requirement already satisfied: pygments in /usr/local/lib/python3.7/dist-packages (from ipython) (2.6.1)\n",
            "Requirement already satisfied: setuptools>=18.5 in /usr/local/lib/python3.7/dist-packages (from ipython) (57.4.0)\n",
            "Requirement already satisfied: pexpect in /usr/local/lib/python3.7/dist-packages (from ipython) (4.8.0)\n",
            "Requirement already satisfied: pickleshare in /usr/local/lib/python3.7/dist-packages (from ipython) (0.7.5)\n",
            "Requirement already satisfied: prompt-toolkit<2.1.0,>=2.0.0 in /usr/local/lib/python3.7/dist-packages (from ipython) (2.0.10)\n",
            "Requirement already satisfied: traitlets>=4.2 in /usr/local/lib/python3.7/dist-packages (from ipython) (5.1.1)\n",
            "Collecting jedi>=0.10\n",
            "  Downloading jedi-0.18.2-py2.py3-none-any.whl (1.6 MB)\n",
            "Requirement already satisfied: decorator in /usr/local/lib/python3.7/dist-packages (from ipython) (4.4.2)\n",
            "Requirement already satisfied: backcall in /usr/local/lib/python3.7/dist-packages (from ipython) (0.2.0)\n",
            "Requirement already satisfied: parso<0.9.0,>=0.8.0 in /usr/local/lib/python3.7/dist-packages (from jedi>=0.10->ipython) (0.8.3)\n",
            "Requirement already satisfied: six>=1.9.0 in /usr/local/lib/python3.7/dist-packages (from prompt-toolkit<2.1.0,>=2.0.0->ipython) (1.15.0)\n",
            "Requirement already satisfied: wcwidth in /usr/local/lib/python3.7/dist-packages (from prompt-toolkit<2.1.0,>=2.0.0->ipython) (0.2.5)\n",
            "Requirement already satisfied: ptyprocess>=0.5 in /usr/local/lib/python3.7/dist-packages (from pexpect->ipython) (0.7.0)\n",
            "Requirement already satisfied: typing-extensions in /usr/local/lib/python3.7/dist-packages (from torch->thop>=0.1.1) (4.1.1)\n",
            "Installing collected packages: jedi, thop\n",
            "Successfully installed jedi-0.18.2 thop-0.1.1.post2209072238\n",
            "\n",
            "\u001b[31m\u001b[1mrequirements:\u001b[0m 2 packages updated per /content/drive/MyDrive/YOLOv5/yolov5/requirements.txt\n",
            "\u001b[31m\u001b[1mrequirements:\u001b[0m ⚠️ \u001b[1mRestart runtime or rerun command for updates to take effect\u001b[0m\n",
            "\n",
            "YOLOv5 🚀 v7.0-12-g7f5724b Python-3.7.15 torch-1.12.1+cu113 CUDA:0 (Tesla T4, 15110MiB)\n",
            "\n",
            "\u001b[34m\u001b[1mhyperparameters: \u001b[0mlr0=0.01, lrf=0.01, momentum=0.937, weight_decay=0.0005, warmup_epochs=3.0, warmup_momentum=0.8, warmup_bias_lr=0.1, box=0.05, cls=0.5, cls_pw=1.0, obj=1.0, obj_pw=1.0, iou_t=0.2, anchor_t=4.0, fl_gamma=0.0, hsv_h=0.015, hsv_s=0.7, hsv_v=0.4, degrees=0.0, translate=0.1, scale=0.5, shear=0.0, perspective=0.0, flipud=0.0, fliplr=0.5, mosaic=1.0, mixup=0.0, copy_paste=0.0\n",
            "\u001b[34m\u001b[1mTensorBoard: \u001b[0mStart with 'tensorboard --logdir drive/MyDrive/YOLOv5/yolov5/runs/train-seg', view at http://localhost:6006/\n",
            "Downloading https://ultralytics.com/assets/Arial.ttf to /root/.config/Ultralytics/Arial.ttf...\n",
            "100% 755k/755k [00:00<00:00, 142MB/s]\n",
            "Downloading https://github.com/ultralytics/yolov5/releases/download/v7.0/yolov5s-seg.pt to yolov5s-seg.pt...\n",
            "100% 14.9M/14.9M [00:00<00:00, 187MB/s]\n",
            "\n",
            "Overriding model.yaml nc=80 with nc=1\n",
            "\n",
            "                 from  n    params  module                                  arguments                     \n",
            "  0                -1  1      3520  models.common.Conv                      [3, 32, 6, 2, 2]              \n",
            "  1                -1  1     18560  models.common.Conv                      [32, 64, 3, 2]                \n",
            "  2                -1  1     18816  models.common.C3                        [64, 64, 1]                   \n",
            "  3                -1  1     73984  models.common.Conv                      [64, 128, 3, 2]               \n",
            "  4                -1  2    115712  models.common.C3                        [128, 128, 2]                 \n",
            "  5                -1  1    295424  models.common.Conv                      [128, 256, 3, 2]              \n",
            "  6                -1  3    625152  models.common.C3                        [256, 256, 3]                 \n",
            "  7                -1  1   1180672  models.common.Conv                      [256, 512, 3, 2]              \n",
            "  8                -1  1   1182720  models.common.C3                        [512, 512, 1]                 \n",
            "  9                -1  1    656896  models.common.SPPF                      [512, 512, 5]                 \n",
            " 10                -1  1    131584  models.common.Conv                      [512, 256, 1, 1]              \n",
            " 11                -1  1         0  torch.nn.modules.upsampling.Upsample    [None, 2, 'nearest']          \n",
            " 12           [-1, 6]  1         0  models.common.Concat                    [1]                           \n",
            " 13                -1  1    361984  models.common.C3                        [512, 256, 1, False]          \n",
            " 14                -1  1     33024  models.common.Conv                      [256, 128, 1, 1]              \n",
            " 15                -1  1         0  torch.nn.modules.upsampling.Upsample    [None, 2, 'nearest']          \n",
            " 16           [-1, 4]  1         0  models.common.Concat                    [1]                           \n",
            " 17                -1  1     90880  models.common.C3                        [256, 128, 1, False]          \n",
            " 18                -1  1    147712  models.common.Conv                      [128, 128, 3, 2]              \n",
            " 19          [-1, 14]  1         0  models.common.Concat                    [1]                           \n",
            " 20                -1  1    296448  models.common.C3                        [256, 256, 1, False]          \n",
            " 21                -1  1    590336  models.common.Conv                      [256, 256, 3, 2]              \n",
            " 22          [-1, 10]  1         0  models.common.Concat                    [1]                           \n",
            " 23                -1  1   1182720  models.common.C3                        [512, 512, 1, False]          \n",
            " 24      [17, 20, 23]  1    402070  models.yolo.Segment                     [1, [[10, 13, 16, 30, 33, 23], [30, 61, 62, 45, 59, 119], [116, 90, 156, 198, 373, 326]], 32, 128, [128, 256, 512]]\n",
            "Model summary: 225 layers, 7408214 parameters, 7408214 gradients\n",
            "\n",
            "Transferred 361/367 items from yolov5s-seg.pt\n",
            "\u001b[34m\u001b[1mAMP: \u001b[0mchecks passed ✅\n",
            "\u001b[34m\u001b[1moptimizer:\u001b[0m SGD(lr=0.01) with parameter groups 60 weight(decay=0.0), 63 weight(decay=0.0009375), 63 bias\n",
            "\u001b[34m\u001b[1malbumentations: \u001b[0mBlur(p=0.01, blur_limit=(3, 7)), MedianBlur(p=0.01, blur_limit=(3, 7)), ToGray(p=0.01), CLAHE(p=0.01, clip_limit=(1, 4.0), tile_grid_size=(8, 8))\n",
            "\u001b[34m\u001b[1mtrain: \u001b[0mScanning /content/drive/MyDrive/YOLOv5/yolov5/Yolov7_inst_seg-1/train/labels.cache... 1992 images, 0 backgrounds, 0 corrupt: 100% 1992/1992 [00:00<?, ?it/s]\n",
            "\u001b[34m\u001b[1mval: \u001b[0mScanning /content/drive/MyDrive/YOLOv5/yolov5/Yolov7_inst_seg-1/valid/labels.cache... 206 images, 0 backgrounds, 0 corrupt: 100% 206/206 [00:00<?, ?it/s]\n",
            "\n",
            "\u001b[34m\u001b[1mAutoAnchor: \u001b[0m3.04 anchors/target, 0.976 Best Possible Recall (BPR). Anchors are a poor fit to dataset ⚠️, attempting to improve...\n",
            "\u001b[34m\u001b[1mAutoAnchor: \u001b[0mWARNING ⚠️ Extremely small objects found: 66 of 9234 labels are <3 pixels in size\n",
            "\u001b[34m\u001b[1mAutoAnchor: \u001b[0mRunning kmeans for 9 anchors on 9234 points...\n",
            "\u001b[34m\u001b[1mAutoAnchor: \u001b[0mEvolving anchors with Genetic Algorithm: fitness = 0.7770: 100% 1000/1000 [00:02<00:00, 388.95it/s]\n",
            "\u001b[34m\u001b[1mAutoAnchor: \u001b[0mthr=0.25: 0.9999 best possible recall, 5.06 anchors past thr\n",
            "\u001b[34m\u001b[1mAutoAnchor: \u001b[0mn=9, img_size=320, metric_all=0.348/0.777-mean/best, past_thr=0.518-mean: 22,5, 35,8, 52,12, 68,19, 92,32, 94,79, 168,53, 162,99, 281,115\n",
            "\u001b[34m\u001b[1mAutoAnchor: \u001b[0mDone ✅ (optional: update model *.yaml to use these anchors in the future)\n",
            "Plotting labels to drive/MyDrive/YOLOv5/yolov5/runs/train-seg/exp2/labels.jpg... \n",
            "Image sizes 320 train, 320 val\n",
            "Using 2 dataloader workers\n",
            "Logging results to \u001b[1mdrive/MyDrive/YOLOv5/yolov5/runs/train-seg/exp2\u001b[0m\n",
            "Starting training for 50 epochs...\n",
            "\n",
            "      Epoch    GPU_mem   box_loss   seg_loss   obj_loss   cls_loss  Instances       Size\n",
            "       0/49      7.85G     0.1238     0.1383    0.02757          0        548        320: 100% 17/17 [07:48<00:00, 27.55s/it]\n",
            "                 Class     Images  Instances      Box(P          R      mAP50  mAP50-95)     Mask(P          R      mAP50  mAP50-95): 100% 1/1 [00:05<00:00,  5.17s/it]\n",
            "                   all        206        970     0.0032      0.204    0.00285   0.000935    0.00243      0.155    0.00173   0.000361\n",
            "\n",
            "      Epoch    GPU_mem   box_loss   seg_loss   obj_loss   cls_loss  Instances       Size\n",
            "       1/49      10.3G    0.09853    0.08298    0.03787          0        482        320: 100% 17/17 [01:08<00:00,  4.01s/it]\n",
            "                 Class     Images  Instances      Box(P          R      mAP50  mAP50-95)     Mask(P          R      mAP50  mAP50-95): 100% 1/1 [00:05<00:00,  5.65s/it]\n",
            "                   all        206        970       0.14      0.139     0.0606     0.0137      0.205      0.169      0.112     0.0312\n",
            "\n",
            "      Epoch    GPU_mem   box_loss   seg_loss   obj_loss   cls_loss  Instances       Size\n",
            "       2/49      10.3G    0.08406    0.06819    0.03508          0        567        320: 100% 17/17 [01:11<00:00,  4.20s/it]\n",
            "                 Class     Images  Instances      Box(P          R      mAP50  mAP50-95)     Mask(P          R      mAP50  mAP50-95): 100% 1/1 [00:05<00:00,  5.55s/it]\n",
            "                   all        206        970      0.231      0.238      0.127     0.0402      0.201      0.221      0.128     0.0422\n",
            "\n",
            "      Epoch    GPU_mem   box_loss   seg_loss   obj_loss   cls_loss  Instances       Size\n",
            "       3/49      10.3G    0.08067    0.06575    0.03245          0        572        320: 100% 17/17 [01:09<00:00,  4.08s/it]\n",
            "                 Class     Images  Instances      Box(P          R      mAP50  mAP50-95)     Mask(P          R      mAP50  mAP50-95): 100% 1/1 [00:05<00:00,  5.81s/it]\n",
            "                   all        206        970      0.289      0.258      0.171     0.0546      0.317      0.269      0.213     0.0754\n",
            "\n",
            "      Epoch    GPU_mem   box_loss   seg_loss   obj_loss   cls_loss  Instances       Size\n",
            "       4/49      10.3G    0.07782    0.06369    0.03062          0        591        320: 100% 17/17 [01:09<00:00,  4.08s/it]\n",
            "                 Class     Images  Instances      Box(P          R      mAP50  mAP50-95)     Mask(P          R      mAP50  mAP50-95): 100% 1/1 [00:05<00:00,  5.41s/it]\n",
            "                   all        206        970       0.21      0.236      0.135     0.0355      0.273      0.305      0.217     0.0704\n",
            "\n",
            "      Epoch    GPU_mem   box_loss   seg_loss   obj_loss   cls_loss  Instances       Size\n",
            "       5/49      10.3G    0.07476    0.06133    0.02907          0        544        320: 100% 17/17 [01:10<00:00,  4.15s/it]\n",
            "                 Class     Images  Instances      Box(P          R      mAP50  mAP50-95)     Mask(P          R      mAP50  mAP50-95): 100% 1/1 [00:05<00:00,  5.48s/it]\n",
            "                   all        206        970      0.338      0.365      0.282      0.105      0.363      0.357      0.297      0.121\n",
            "\n",
            "      Epoch    GPU_mem   box_loss   seg_loss   obj_loss   cls_loss  Instances       Size\n",
            "       6/49      10.3G    0.07045    0.06079    0.02888          0        529        320: 100% 17/17 [01:14<00:00,  4.36s/it]\n",
            "                 Class     Images  Instances      Box(P          R      mAP50  mAP50-95)     Mask(P          R      mAP50  mAP50-95): 100% 1/1 [00:06<00:00,  6.00s/it]\n",
            "                   all        206        970      0.478      0.327       0.32      0.114      0.485      0.353      0.347      0.134\n",
            "\n",
            "      Epoch    GPU_mem   box_loss   seg_loss   obj_loss   cls_loss  Instances       Size\n",
            "       7/49      10.3G    0.06709    0.05976    0.02817          0        510        320: 100% 17/17 [01:07<00:00,  3.99s/it]\n",
            "                 Class     Images  Instances      Box(P          R      mAP50  mAP50-95)     Mask(P          R      mAP50  mAP50-95): 100% 1/1 [00:05<00:00,  5.76s/it]\n",
            "                   all        206        970      0.398       0.36      0.283     0.0967      0.432      0.306      0.284      0.101\n",
            "\n",
            "      Epoch    GPU_mem   box_loss   seg_loss   obj_loss   cls_loss  Instances       Size\n",
            "       8/49      10.3G    0.06429     0.0579    0.02755          0        504        320: 100% 17/17 [01:13<00:00,  4.33s/it]\n",
            "                 Class     Images  Instances      Box(P          R      mAP50  mAP50-95)     Mask(P          R      mAP50  mAP50-95): 100% 1/1 [00:05<00:00,  5.23s/it]\n",
            "                   all        206        970      0.437      0.311      0.271        0.1      0.508      0.342      0.335      0.116\n",
            "\n",
            "      Epoch    GPU_mem   box_loss   seg_loss   obj_loss   cls_loss  Instances       Size\n",
            "       9/49      10.3G     0.0623    0.05663    0.02794          0        574        320: 100% 17/17 [01:09<00:00,  4.08s/it]\n",
            "                 Class     Images  Instances      Box(P          R      mAP50  mAP50-95)     Mask(P          R      mAP50  mAP50-95): 100% 1/1 [00:05<00:00,  5.37s/it]\n",
            "                   all        206        970      0.479      0.368      0.343      0.137      0.498      0.304      0.317       0.11\n",
            "\n",
            "      Epoch    GPU_mem   box_loss   seg_loss   obj_loss   cls_loss  Instances       Size\n",
            "      10/49      10.3G    0.05958    0.05514    0.02651          0        493        320: 100% 17/17 [01:10<00:00,  4.16s/it]\n",
            "                 Class     Images  Instances      Box(P          R      mAP50  mAP50-95)     Mask(P          R      mAP50  mAP50-95): 100% 1/1 [00:05<00:00,  5.66s/it]\n",
            "                   all        206        970      0.739      0.427      0.466      0.197       0.68      0.495      0.542      0.225\n",
            "\n",
            "      Epoch    GPU_mem   box_loss   seg_loss   obj_loss   cls_loss  Instances       Size\n",
            "      11/49      10.3G    0.05897    0.05491     0.0265          0        544        320: 100% 17/17 [01:11<00:00,  4.24s/it]\n",
            "                 Class     Images  Instances      Box(P          R      mAP50  mAP50-95)     Mask(P          R      mAP50  mAP50-95): 100% 1/1 [00:05<00:00,  5.33s/it]\n",
            "                   all        206        970      0.673      0.468      0.517      0.209      0.682      0.432      0.508       0.21\n",
            "\n",
            "      Epoch    GPU_mem   box_loss   seg_loss   obj_loss   cls_loss  Instances       Size\n",
            "      12/49      10.3G    0.05795    0.05398     0.0262          0        472        320: 100% 17/17 [01:10<00:00,  4.14s/it]\n",
            "                 Class     Images  Instances      Box(P          R      mAP50  mAP50-95)     Mask(P          R      mAP50  mAP50-95): 100% 1/1 [00:05<00:00,  5.57s/it]\n",
            "                   all        206        970      0.466      0.345      0.298     0.0994      0.441      0.344      0.301     0.0977\n",
            "\n",
            "      Epoch    GPU_mem   box_loss   seg_loss   obj_loss   cls_loss  Instances       Size\n",
            "      13/49      10.3G    0.05666    0.05346    0.02658          0        577        320: 100% 17/17 [01:09<00:00,  4.10s/it]\n",
            "                 Class     Images  Instances      Box(P          R      mAP50  mAP50-95)     Mask(P          R      mAP50  mAP50-95): 100% 1/1 [00:05<00:00,  5.24s/it]\n",
            "                   all        206        970      0.612      0.405      0.421      0.172      0.706      0.339        0.4      0.151\n",
            "\n",
            "      Epoch    GPU_mem   box_loss   seg_loss   obj_loss   cls_loss  Instances       Size\n",
            "      14/49      10.3G     0.0562    0.05207    0.02632          0        570        320: 100% 17/17 [01:12<00:00,  4.25s/it]\n",
            "                 Class     Images  Instances      Box(P          R      mAP50  mAP50-95)     Mask(P          R      mAP50  mAP50-95): 100% 1/1 [00:05<00:00,  5.49s/it]\n",
            "                   all        206        970      0.722      0.509      0.567      0.258      0.703      0.478       0.55      0.245\n",
            "\n",
            "      Epoch    GPU_mem   box_loss   seg_loss   obj_loss   cls_loss  Instances       Size\n",
            "      15/49      10.3G    0.05508    0.05174    0.02576          0        487        320: 100% 17/17 [01:07<00:00,  3.97s/it]\n",
            "                 Class     Images  Instances      Box(P          R      mAP50  mAP50-95)     Mask(P          R      mAP50  mAP50-95): 100% 1/1 [00:05<00:00,  5.21s/it]\n",
            "                   all        206        970      0.616      0.456       0.47      0.205      0.609      0.459      0.499      0.193\n",
            "\n",
            "      Epoch    GPU_mem   box_loss   seg_loss   obj_loss   cls_loss  Instances       Size\n",
            "      16/49      10.3G     0.0547    0.05201    0.02554          0        539        320: 100% 17/17 [01:12<00:00,  4.25s/it]\n",
            "                 Class     Images  Instances      Box(P          R      mAP50  mAP50-95)     Mask(P          R      mAP50  mAP50-95): 100% 1/1 [00:05<00:00,  5.01s/it]\n",
            "                   all        206        970      0.565      0.353      0.359      0.144       0.49      0.317      0.318      0.111\n",
            "\n",
            "      Epoch    GPU_mem   box_loss   seg_loss   obj_loss   cls_loss  Instances       Size\n",
            "      17/49      10.3G    0.05416      0.051    0.02511          0        584        320: 100% 17/17 [01:09<00:00,  4.09s/it]\n",
            "                 Class     Images  Instances      Box(P          R      mAP50  mAP50-95)     Mask(P          R      mAP50  mAP50-95): 100% 1/1 [00:05<00:00,  5.44s/it]\n",
            "                   all        206        970      0.661      0.449      0.501       0.22      0.664      0.396      0.432      0.176\n",
            "\n",
            "      Epoch    GPU_mem   box_loss   seg_loss   obj_loss   cls_loss  Instances       Size\n",
            "      18/49      10.3G     0.0533    0.05106    0.02523          0        566        320: 100% 17/17 [01:09<00:00,  4.11s/it]\n",
            "                 Class     Images  Instances      Box(P          R      mAP50  mAP50-95)     Mask(P          R      mAP50  mAP50-95): 100% 1/1 [00:05<00:00,  5.57s/it]\n",
            "                   all        206        970      0.538      0.384      0.406      0.173      0.507      0.359      0.378      0.145\n",
            "\n",
            "      Epoch    GPU_mem   box_loss   seg_loss   obj_loss   cls_loss  Instances       Size\n",
            "      19/49      10.3G    0.05263    0.04998    0.02492          0        524        320: 100% 17/17 [01:09<00:00,  4.08s/it]\n",
            "                 Class     Images  Instances      Box(P          R      mAP50  mAP50-95)     Mask(P          R      mAP50  mAP50-95): 100% 1/1 [00:07<00:00,  7.43s/it]\n",
            "                   all        206        970      0.681      0.518       0.57      0.259      0.665      0.525      0.579      0.261\n",
            "\n",
            "      Epoch    GPU_mem   box_loss   seg_loss   obj_loss   cls_loss  Instances       Size\n",
            "      20/49      10.3G    0.05184    0.04939    0.02485          0        531        320: 100% 17/17 [01:10<00:00,  4.14s/it]\n",
            "                 Class     Images  Instances      Box(P          R      mAP50  mAP50-95)     Mask(P          R      mAP50  mAP50-95): 100% 1/1 [00:05<00:00,  5.23s/it]\n",
            "                   all        206        970      0.697      0.547      0.607      0.292      0.707      0.489      0.571      0.263\n",
            "\n",
            "      Epoch    GPU_mem   box_loss   seg_loss   obj_loss   cls_loss  Instances       Size\n",
            "      21/49      10.3G    0.05162    0.04942    0.02518          0        480        320: 100% 17/17 [01:07<00:00,  3.96s/it]\n",
            "                 Class     Images  Instances      Box(P          R      mAP50  mAP50-95)     Mask(P          R      mAP50  mAP50-95): 100% 1/1 [00:05<00:00,  5.45s/it]\n",
            "                   all        206        970      0.763      0.537      0.621      0.279      0.738       0.52      0.595      0.266\n",
            "\n",
            "      Epoch    GPU_mem   box_loss   seg_loss   obj_loss   cls_loss  Instances       Size\n",
            "      22/49      10.3G     0.0512    0.04912    0.02429          0        482        320: 100% 17/17 [01:13<00:00,  4.34s/it]\n",
            "                 Class     Images  Instances      Box(P          R      mAP50  mAP50-95)     Mask(P          R      mAP50  mAP50-95): 100% 1/1 [00:05<00:00,  5.41s/it]\n",
            "                   all        206        970       0.71      0.501      0.556      0.269       0.73      0.495      0.568      0.267\n",
            "\n",
            "      Epoch    GPU_mem   box_loss   seg_loss   obj_loss   cls_loss  Instances       Size\n",
            "      23/49      10.3G    0.05048     0.0484    0.02483          0        562        320: 100% 17/17 [01:08<00:00,  4.00s/it]\n",
            "                 Class     Images  Instances      Box(P          R      mAP50  mAP50-95)     Mask(P          R      mAP50  mAP50-95): 100% 1/1 [00:05<00:00,  5.13s/it]\n",
            "                   all        206        970      0.752      0.503      0.589      0.273      0.726      0.481      0.551      0.258\n",
            "\n",
            "      Epoch    GPU_mem   box_loss   seg_loss   obj_loss   cls_loss  Instances       Size\n",
            "      24/49      10.3G    0.04982     0.0478    0.02408          0        595        320: 100% 17/17 [01:10<00:00,  4.17s/it]\n",
            "                 Class     Images  Instances      Box(P          R      mAP50  mAP50-95)     Mask(P          R      mAP50  mAP50-95): 100% 1/1 [00:05<00:00,  5.62s/it]\n",
            "                   all        206        970      0.686      0.532      0.572      0.265      0.638      0.504       0.55      0.242\n",
            "\n",
            "      Epoch    GPU_mem   box_loss   seg_loss   obj_loss   cls_loss  Instances       Size\n",
            "      25/49      10.3G    0.04943    0.04736    0.02404          0        534        320: 100% 17/17 [01:10<00:00,  4.16s/it]\n",
            "                 Class     Images  Instances      Box(P          R      mAP50  mAP50-95)     Mask(P          R      mAP50  mAP50-95): 100% 1/1 [00:05<00:00,  5.69s/it]\n",
            "                   all        206        970      0.725       0.56      0.609      0.274      0.666      0.537      0.583      0.261\n",
            "\n",
            "      Epoch    GPU_mem   box_loss   seg_loss   obj_loss   cls_loss  Instances       Size\n",
            "      26/49      10.3G    0.04888    0.04706    0.02444          0        482        320: 100% 17/17 [01:10<00:00,  4.13s/it]\n",
            "                 Class     Images  Instances      Box(P          R      mAP50  mAP50-95)     Mask(P          R      mAP50  mAP50-95): 100% 1/1 [00:05<00:00,  5.30s/it]\n",
            "                   all        206        970      0.757       0.59       0.63      0.299      0.723      0.549       0.61      0.272\n",
            "\n",
            "      Epoch    GPU_mem   box_loss   seg_loss   obj_loss   cls_loss  Instances       Size\n",
            "      27/49      10.3G      0.049    0.04667    0.02404          0        624        320: 100% 17/17 [01:07<00:00,  3.95s/it]\n",
            "                 Class     Images  Instances      Box(P          R      mAP50  mAP50-95)     Mask(P          R      mAP50  mAP50-95): 100% 1/1 [00:05<00:00,  5.49s/it]\n",
            "                   all        206        970      0.759      0.563       0.63      0.291      0.712      0.528      0.602      0.271\n",
            "\n",
            "      Epoch    GPU_mem   box_loss   seg_loss   obj_loss   cls_loss  Instances       Size\n",
            "      28/49      10.3G    0.04786    0.04664    0.02413          0        480        320: 100% 17/17 [01:13<00:00,  4.31s/it]\n",
            "                 Class     Images  Instances      Box(P          R      mAP50  mAP50-95)     Mask(P          R      mAP50  mAP50-95): 100% 1/1 [00:05<00:00,  5.44s/it]\n",
            "                   all        206        970      0.749      0.537      0.597      0.282      0.698      0.536      0.604      0.276\n",
            "\n",
            "      Epoch    GPU_mem   box_loss   seg_loss   obj_loss   cls_loss  Instances       Size\n",
            "      29/49      10.3G    0.04684    0.04582    0.02348          0        458        320: 100% 17/17 [01:07<00:00,  3.95s/it]\n",
            "                 Class     Images  Instances      Box(P          R      mAP50  mAP50-95)     Mask(P          R      mAP50  mAP50-95): 100% 1/1 [00:05<00:00,  5.44s/it]\n",
            "                   all        206        970      0.762      0.563      0.631      0.301       0.69      0.506      0.566      0.259\n",
            "\n",
            "      Epoch    GPU_mem   box_loss   seg_loss   obj_loss   cls_loss  Instances       Size\n",
            "      30/49      10.3G    0.04708    0.04597    0.02401          0        558        320: 100% 17/17 [01:09<00:00,  4.11s/it]\n",
            "                 Class     Images  Instances      Box(P          R      mAP50  mAP50-95)     Mask(P          R      mAP50  mAP50-95): 100% 1/1 [00:05<00:00,  5.28s/it]\n",
            "                   all        206        970      0.744      0.534       0.61      0.292      0.593      0.518       0.54      0.242\n",
            "\n",
            "      Epoch    GPU_mem   box_loss   seg_loss   obj_loss   cls_loss  Instances       Size\n",
            "      31/49      10.3G    0.04646    0.04541    0.02326          0        569        320: 100% 17/17 [01:10<00:00,  4.16s/it]\n",
            "                 Class     Images  Instances      Box(P          R      mAP50  mAP50-95)     Mask(P          R      mAP50  mAP50-95): 100% 1/1 [00:05<00:00,  5.29s/it]\n",
            "                   all        206        970      0.785      0.573      0.658      0.316      0.758      0.488      0.585      0.256\n",
            "\n",
            "      Epoch    GPU_mem   box_loss   seg_loss   obj_loss   cls_loss  Instances       Size\n",
            "      32/49      10.3G    0.04685    0.04502    0.02348          0        518        320: 100% 17/17 [01:09<00:00,  4.12s/it]\n",
            "                 Class     Images  Instances      Box(P          R      mAP50  mAP50-95)     Mask(P          R      mAP50  mAP50-95): 100% 1/1 [00:05<00:00,  5.22s/it]\n",
            "                   all        206        970      0.769      0.543      0.622      0.302      0.729      0.459      0.559      0.256\n",
            "\n",
            "      Epoch    GPU_mem   box_loss   seg_loss   obj_loss   cls_loss  Instances       Size\n",
            "      33/49      10.3G      0.046    0.04519    0.02286          0        538        320: 100% 17/17 [01:08<00:00,  4.05s/it]\n",
            "                 Class     Images  Instances      Box(P          R      mAP50  mAP50-95)     Mask(P          R      mAP50  mAP50-95): 100% 1/1 [00:05<00:00,  5.54s/it]\n",
            "                   all        206        970      0.775      0.579      0.638      0.286      0.759       0.58      0.642      0.272\n",
            "\n",
            "      Epoch    GPU_mem   box_loss   seg_loss   obj_loss   cls_loss  Instances       Size\n",
            "      34/49      10.3G    0.04547    0.04475    0.02282          0        470        320: 100% 17/17 [01:13<00:00,  4.34s/it]\n",
            "                 Class     Images  Instances      Box(P          R      mAP50  mAP50-95)     Mask(P          R      mAP50  mAP50-95): 100% 1/1 [00:05<00:00,  5.36s/it]\n",
            "                   all        206        970      0.738      0.576       0.63      0.299      0.726      0.567      0.629      0.282\n",
            "\n",
            "      Epoch    GPU_mem   box_loss   seg_loss   obj_loss   cls_loss  Instances       Size\n",
            "      35/49      10.3G    0.04534    0.04488    0.02289          0        503        320: 100% 17/17 [01:08<00:00,  4.05s/it]\n",
            "                 Class     Images  Instances      Box(P          R      mAP50  mAP50-95)     Mask(P          R      mAP50  mAP50-95): 100% 1/1 [00:05<00:00,  5.38s/it]\n",
            "                   all        206        970      0.676      0.464      0.524      0.236      0.741      0.463      0.534      0.216\n",
            "\n",
            "      Epoch    GPU_mem   box_loss   seg_loss   obj_loss   cls_loss  Instances       Size\n",
            "      36/49      10.3G    0.04534    0.04427    0.02256          0        527        320: 100% 17/17 [01:11<00:00,  4.20s/it]\n",
            "                 Class     Images  Instances      Box(P          R      mAP50  mAP50-95)     Mask(P          R      mAP50  mAP50-95): 100% 1/1 [00:07<00:00,  7.47s/it]\n",
            "                   all        206        970      0.738      0.589       0.65      0.316      0.765      0.491      0.609      0.276\n",
            "\n",
            "      Epoch    GPU_mem   box_loss   seg_loss   obj_loss   cls_loss  Instances       Size\n",
            "      37/49      10.3G    0.04438    0.04419    0.02247          0        500        320: 100% 17/17 [01:09<00:00,  4.09s/it]\n",
            "                 Class     Images  Instances      Box(P          R      mAP50  mAP50-95)     Mask(P          R      mAP50  mAP50-95): 100% 1/1 [00:05<00:00,  5.73s/it]\n",
            "                   all        206        970      0.737      0.625      0.682      0.338        0.7      0.546      0.614       0.29\n",
            "\n",
            "      Epoch    GPU_mem   box_loss   seg_loss   obj_loss   cls_loss  Instances       Size\n",
            "      38/49      10.3G     0.0446    0.04396    0.02271          0        572        320: 100% 17/17 [01:09<00:00,  4.06s/it]\n",
            "                 Class     Images  Instances      Box(P          R      mAP50  mAP50-95)     Mask(P          R      mAP50  mAP50-95): 100% 1/1 [00:05<00:00,  5.46s/it]\n",
            "                   all        206        970      0.756      0.586      0.657      0.304      0.721      0.555      0.603      0.268\n",
            "\n",
            "      Epoch    GPU_mem   box_loss   seg_loss   obj_loss   cls_loss  Instances       Size\n",
            "      39/49      10.3G    0.04375    0.04278    0.02201          0        504        320: 100% 17/17 [01:07<00:00,  3.99s/it]\n",
            "                 Class     Images  Instances      Box(P          R      mAP50  mAP50-95)     Mask(P          R      mAP50  mAP50-95): 100% 1/1 [00:06<00:00,  6.52s/it]\n",
            "                   all        206        970      0.768      0.603      0.661      0.315      0.737       0.56      0.603      0.273\n",
            "\n",
            "      Epoch    GPU_mem   box_loss   seg_loss   obj_loss   cls_loss  Instances       Size\n",
            "      40/49      10.3G    0.04411    0.04338    0.02209          0        577        320: 100% 17/17 [01:10<00:00,  4.16s/it]\n",
            "                 Class     Images  Instances      Box(P          R      mAP50  mAP50-95)     Mask(P          R      mAP50  mAP50-95): 100% 1/1 [00:05<00:00,  5.20s/it]\n",
            "                   all        206        970      0.807      0.595      0.671       0.32      0.739      0.542      0.595      0.273\n",
            "\n",
            "      Epoch    GPU_mem   box_loss   seg_loss   obj_loss   cls_loss  Instances       Size\n",
            "      41/49      10.3G    0.04354    0.04335    0.02208          0        549        320: 100% 17/17 [01:07<00:00,  3.98s/it]\n",
            "                 Class     Images  Instances      Box(P          R      mAP50  mAP50-95)     Mask(P          R      mAP50  mAP50-95): 100% 1/1 [00:05<00:00,  5.14s/it]\n",
            "                   all        206        970       0.73      0.565      0.606      0.295       0.68       0.46      0.507      0.234\n",
            "\n",
            "      Epoch    GPU_mem   box_loss   seg_loss   obj_loss   cls_loss  Instances       Size\n",
            "      42/49      10.3G    0.04291    0.04295    0.02195          0        551        320: 100% 17/17 [01:11<00:00,  4.23s/it]\n",
            "                 Class     Images  Instances      Box(P          R      mAP50  mAP50-95)     Mask(P          R      mAP50  mAP50-95): 100% 1/1 [00:05<00:00,  5.54s/it]\n",
            "                   all        206        970      0.788      0.606      0.676      0.326        0.7      0.529      0.584      0.265\n",
            "\n",
            "      Epoch    GPU_mem   box_loss   seg_loss   obj_loss   cls_loss  Instances       Size\n",
            "      43/49      10.3G    0.04296    0.04253    0.02249          0        592        320: 100% 17/17 [01:10<00:00,  4.13s/it]\n",
            "                 Class     Images  Instances      Box(P          R      mAP50  mAP50-95)     Mask(P          R      mAP50  mAP50-95): 100% 1/1 [00:05<00:00,  5.61s/it]\n",
            "                   all        206        970      0.806      0.592      0.668      0.327      0.725      0.527      0.593      0.284\n",
            "\n",
            "      Epoch    GPU_mem   box_loss   seg_loss   obj_loss   cls_loss  Instances       Size\n",
            "      44/49      10.3G    0.04237    0.04206    0.02134          0        453        320: 100% 17/17 [01:09<00:00,  4.09s/it]\n",
            "                 Class     Images  Instances      Box(P          R      mAP50  mAP50-95)     Mask(P          R      mAP50  mAP50-95): 100% 1/1 [00:05<00:00,  5.25s/it]\n",
            "                   all        206        970      0.787      0.613      0.668      0.323      0.742      0.571      0.627      0.286\n",
            "\n",
            "      Epoch    GPU_mem   box_loss   seg_loss   obj_loss   cls_loss  Instances       Size\n",
            "      45/49      10.3G    0.04192    0.04125    0.02192          0        589        320: 100% 17/17 [01:09<00:00,  4.11s/it]\n",
            "                 Class     Images  Instances      Box(P          R      mAP50  mAP50-95)     Mask(P          R      mAP50  mAP50-95): 100% 1/1 [00:05<00:00,  5.37s/it]\n",
            "                   all        206        970      0.793      0.632      0.693      0.335      0.721      0.556      0.637      0.305\n",
            "\n",
            "      Epoch    GPU_mem   box_loss   seg_loss   obj_loss   cls_loss  Instances       Size\n",
            "      46/49      10.3G    0.04197     0.0414    0.02159          0        524        320: 100% 17/17 [01:11<00:00,  4.18s/it]\n",
            "                 Class     Images  Instances      Box(P          R      mAP50  mAP50-95)     Mask(P          R      mAP50  mAP50-95): 100% 1/1 [00:05<00:00,  5.14s/it]\n",
            "                   all        206        970      0.807      0.632      0.694      0.333      0.733      0.566      0.627      0.296\n",
            "\n",
            "      Epoch    GPU_mem   box_loss   seg_loss   obj_loss   cls_loss  Instances       Size\n",
            "      47/49      10.3G     0.0416    0.04151    0.02176          0        567        320: 100% 17/17 [01:08<00:00,  4.03s/it]\n",
            "                 Class     Images  Instances      Box(P          R      mAP50  mAP50-95)     Mask(P          R      mAP50  mAP50-95): 100% 1/1 [00:05<00:00,  5.31s/it]\n",
            "                   all        206        970      0.806      0.631      0.693      0.355      0.741      0.594      0.645      0.306\n",
            "\n",
            "      Epoch    GPU_mem   box_loss   seg_loss   obj_loss   cls_loss  Instances       Size\n",
            "      48/49      10.3G     0.0415    0.04128      0.021          0        540        320: 100% 17/17 [01:11<00:00,  4.22s/it]\n",
            "                 Class     Images  Instances      Box(P          R      mAP50  mAP50-95)     Mask(P          R      mAP50  mAP50-95): 100% 1/1 [00:05<00:00,  5.28s/it]\n",
            "                   all        206        970      0.791      0.627      0.687      0.352      0.725      0.556      0.616      0.296\n",
            "\n",
            "      Epoch    GPU_mem   box_loss   seg_loss   obj_loss   cls_loss  Instances       Size\n",
            "      49/49      10.3G    0.04124    0.04112    0.02157          0        481        320: 100% 17/17 [01:08<00:00,  4.04s/it]\n",
            "                 Class     Images  Instances      Box(P          R      mAP50  mAP50-95)     Mask(P          R      mAP50  mAP50-95): 100% 1/1 [00:04<00:00,  4.97s/it]\n",
            "                   all        206        970      0.804      0.622      0.688      0.351      0.725      0.546      0.619      0.298\n",
            "\n",
            "50 epochs completed in 1.177 hours.\n",
            "Optimizer stripped from drive/MyDrive/YOLOv5/yolov5/runs/train-seg/exp2/weights/last.pt, 15.1MB\n",
            "Optimizer stripped from drive/MyDrive/YOLOv5/yolov5/runs/train-seg/exp2/weights/best.pt, 15.1MB\n",
            "\n",
            "Validating drive/MyDrive/YOLOv5/yolov5/runs/train-seg/exp2/weights/best.pt...\n",
            "Fusing layers... \n",
            "Model summary: 165 layers, 7398422 parameters, 0 gradients\n",
            "                 Class     Images  Instances      Box(P          R      mAP50  mAP50-95)     Mask(P          R      mAP50  mAP50-95): 100% 1/1 [00:06<00:00,  6.49s/it]\n",
            "                   all        206        970      0.798      0.633      0.693      0.355      0.742      0.595      0.647      0.306\n",
            "Results saved to \u001b[1mdrive/MyDrive/YOLOv5/yolov5/runs/train-seg/exp2\u001b[0m\n"
          ]
        },
        {
          "output_type": "error",
          "ename": "AttributeError",
          "evalue": "ignored",
          "traceback": [
            "\u001b[0;31m---------------------------------------------------------------------------\u001b[0m",
            "\u001b[0;31mAttributeError\u001b[0m                            Traceback (most recent call last)",
            "\u001b[0;32m<ipython-input-1-1a1f27de8230>\u001b[0m in \u001b[0;36m<module>\u001b[0;34m\u001b[0m\n\u001b[1;32m      1\u001b[0m \u001b[0mget_ipython\u001b[0m\u001b[0;34m(\u001b[0m\u001b[0;34m)\u001b[0m\u001b[0;34m.\u001b[0m\u001b[0msystem\u001b[0m\u001b[0;34m(\u001b[0m\u001b[0;34m'python /content/drive/MyDrive/YOLOv5/yolov5/segment/train.py --img 320 --batch 120 --epochs 50 --data /content/drive/MyDrive/YOLOv5/yolov5/Yolov7_inst_seg-1/data.yaml --weights yolov5s-seg.pt'\u001b[0m\u001b[0;34m)\u001b[0m\u001b[0;34m\u001b[0m\u001b[0;34m\u001b[0m\u001b[0m\n\u001b[0;32m----> 2\u001b[0;31m \u001b[0mdisplay\u001b[0m\u001b[0;34m.\u001b[0m\u001b[0mImage\u001b[0m\u001b[0;34m(\u001b[0m\u001b[0mfilename\u001b[0m\u001b[0;34m=\u001b[0m\u001b[0;34mf'runs/train-seg/exp/results.png'\u001b[0m\u001b[0;34m)\u001b[0m\u001b[0;34m\u001b[0m\u001b[0;34m\u001b[0m\u001b[0m\n\u001b[0m",
            "\u001b[0;31mAttributeError\u001b[0m: 'function' object has no attribute 'Image'"
          ]
        }
      ]
    },
    {
      "cell_type": "code",
      "source": [],
      "metadata": {
        "id": "3dF5soCNuq68"
      },
      "execution_count": null,
      "outputs": []
    }
  ]
}